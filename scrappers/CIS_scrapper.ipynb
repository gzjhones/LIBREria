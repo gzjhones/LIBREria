{
 "cells": [
  {
   "cell_type": "code",
   "execution_count": 1,
   "metadata": {
    "collapsed": true
   },
   "outputs": [],
   "source": [
    "from bs4 import BeautifulSoup\n",
    "import requests"
   ]
  },
  {
   "cell_type": "code",
   "execution_count": 34,
   "metadata": {
    "collapsed": false
   },
   "outputs": [
    {
     "name": "stdout",
     "output_type": "stream",
     "text": [
      "<img class=\"so-widget-image\" height=\"750\" sizes=\"(max-width: 500px) 100vw, 500px\" src=\"http://www.bbb.gob.bo/wp-content/uploads/2017/04/CartasParaComprender-750.jpg\" srcset=\"http://www.bbb.gob.bo/wp-content/uploads/2017/04/CartasParaComprender-750.jpg 500w, http://www.bbb.gob.bo/wp-content/uploads/2017/04/CartasParaComprender-750-200x300.jpg 200w, http://www.bbb.gob.bo/wp-content/uploads/2017/04/CartasParaComprender-750-140x210.jpg 140w, http://www.bbb.gob.bo/wp-content/uploads/2017/04/CartasParaComprender-750-360x540.jpg 360w, http://www.bbb.gob.bo/wp-content/uploads/2017/04/CartasParaComprender-750-250x375.jpg 250w\" title=\"Cartas para comprender la Historia de Bolivia\" width=\"500\"/>\n",
      "<img class=\"so-widget-image\" height=\"750\" sizes=\"(max-width: 500px) 100vw, 500px\" src=\"http://www.bbb.gob.bo/wp-content/uploads/2017/04/SiringaMojos-750.jpg\" srcset=\"http://www.bbb.gob.bo/wp-content/uploads/2017/04/SiringaMojos-750.jpg 500w, http://www.bbb.gob.bo/wp-content/uploads/2017/04/SiringaMojos-750-200x300.jpg 200w, http://www.bbb.gob.bo/wp-content/uploads/2017/04/SiringaMojos-750-140x210.jpg 140w, http://www.bbb.gob.bo/wp-content/uploads/2017/04/SiringaMojos-750-360x540.jpg 360w, http://www.bbb.gob.bo/wp-content/uploads/2017/04/SiringaMojos-750-250x375.jpg 250w\" title=\"Siringa. Memorias de un colonizador del Beni | Arreando desde Mojos\" width=\"500\"/>\n",
      "<img class=\"so-widget-image\" height=\"750\" sizes=\"(max-width: 490px) 100vw, 490px\" src=\"http://www.bbb.gob.bo/wp-content/uploads/2017/04/tlwp-DiarioComandante_750.png\" srcset=\"http://www.bbb.gob.bo/wp-content/uploads/2017/04/tlwp-DiarioComandante_750.png 490w, http://www.bbb.gob.bo/wp-content/uploads/2017/04/tlwp-DiarioComandante_750-196x300.png 196w, http://www.bbb.gob.bo/wp-content/uploads/2017/04/tlwp-DiarioComandante_750-307x471.png 307w, http://www.bbb.gob.bo/wp-content/uploads/2017/04/tlwp-DiarioComandante_750-353x540.png 353w\" width=\"490\"/>\n"
     ]
    }
   ],
   "source": [
    "page = requests.get('http://www.bbb.gob.bo/descargas/')\n",
    "soup = BeautifulSoup(page.text, 'html.parser')\n",
    "# print(soup)\n",
    "container = soup.find(class_=\"content-blog\").div.div\n",
    "\n",
    "books = container.find_all('div', {\"class\": \"panel-grid-cell\"})\n",
    "# b = [ print(book.prettify()) for book in books ]\n",
    "# return\n",
    "for i, book in enumerate(books):\n",
    "    imgContainer = book.div.div.div.div.img\n",
    "    print(imgContainer)\n",
    "#     r = requests.get(imgContainer['src'], allow_redirects=True)\n",
    "#     filename = imgContainer['src'].split('/')[-1] \n",
    "#     open('bbb/img/'+filename, 'wb').write(r.content)\n",
    "    \n",
    "    \n",
    "#     r = requests.get(imgContainer['src'], stream=True)\n",
    "#     with open(local_filename, 'wb') as f:\n",
    "#         for chunk in r.iter_content(chunk_size=1024): \n",
    "#             if chunk: # filter out keep-alive new chunks\n",
    "#                 f.write(chunk)\n",
    "#                 #f.flush() commented by recommendation from J.F.Sebastian\n",
    "#     return local_filename\n",
    "    "
   ]
  },
  {
   "cell_type": "code",
   "execution_count": null,
   "metadata": {
    "collapsed": true
   },
   "outputs": [],
   "source": []
  }
 ],
 "metadata": {
  "kernelspec": {
   "display_name": "Python 3",
   "language": "python",
   "name": "python3"
  },
  "language_info": {
   "codemirror_mode": {
    "name": "ipython",
    "version": 3
   },
   "file_extension": ".py",
   "mimetype": "text/x-python",
   "name": "python",
   "nbconvert_exporter": "python",
   "pygments_lexer": "ipython3",
   "version": "3.6.0"
  }
 },
 "nbformat": 4,
 "nbformat_minor": 2
}
